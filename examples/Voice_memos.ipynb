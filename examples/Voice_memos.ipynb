{
  "cells": [
    {
      "cell_type": "markdown",
      "metadata": {
        "id": "Tce3stUlHN0L"
      },
      "source": [
        "##### Copyright 2025 Google LLC."
      ]
    },
    {
      "cell_type": "code",
      "execution_count": 1,
      "metadata": {
        "cellView": "form",
        "id": "tuOe1ymfHZPu"
      },
      "outputs": [],
      "source": [
        "# @title Licensed under the Apache License, Version 2.0 (the \"License\");\n",
        "# you may not use this file except in compliance with the License.\n",
        "# You may obtain a copy of the License at\n",
        "#\n",
        "# https://www.apache.org/licenses/LICENSE-2.0\n",
        "#\n",
        "# Unless required by applicable law or agreed to in writing, software\n",
        "# distributed under the License is distributed on an \"AS IS\" BASIS,\n",
        "# WITHOUT WARRANTIES OR CONDITIONS OF ANY KIND, either express or implied.\n",
        "# See the License for the specific language governing permissions and\n",
        "# limitations under the License."
      ]
    },
    {
      "cell_type": "markdown",
      "metadata": {
        "id": "084u8u0DpBlo"
      },
      "source": [
        "# Voice memos"
      ]
    },
    {
      "cell_type": "markdown",
      "metadata": {
        "id": "wnQ_LVlzIeXo"
      },
      "source": [
        "<a target=\"_blank\" href=\"https://colab.research.google.com/github/google-gemini/cookbook/blob/main/examples/Voice_memos.ipynb\"><img src=\"https://colab.research.google.com/assets/colab-badge.svg\" height=30/></a>"
      ]
    },
    {
      "cell_type": "markdown",
      "metadata": {
        "id": "q7QvXQMrIhuZ"
      },
      "source": [
        "This notebook provides a quick example of how to work with audio and text files in the same prompt. You'll use the Gemini API to help you generate ideas for your next blog post, based on voice memos you recorded on your phone, and previous articles you've written."
      ]
    },
    {
      "cell_type": "code",
      "execution_count": 2,
      "metadata": {
        "id": "qLuL9m7KhvxR"
      },
      "outputs": [],
      "source": [
        "%pip install -U -q \"google-genai\""
      ]
    },
    {
      "cell_type": "code",
      "execution_count": 3,
      "metadata": {
        "id": "ATIbQM0NHhkj"
      },
      "outputs": [],
      "source": [
        "from google import genai\n",
        "from google.genai import types"
      ]
    },
    {
      "cell_type": "markdown",
      "metadata": {
        "id": "l8g4hTRotheH"
      },
      "source": [
        "### Setup your API key\n",
        "\n",
        "To run the following cell, your API key must be stored it in a Colab Secret named `GOOGLE_API_KEY`. If you don't already have an API key, or you're not sure how to create a Colab Secret, see [Authentication](https://github.com/google-gemini/cookbook/blob/main/quickstarts/Authentication.ipynb) for an example."
      ]
    },
    {
      "cell_type": "code",
      "execution_count": 4,
      "metadata": {
        "id": "d6lYXRcjthKV"
      },
      "outputs": [],
      "source": [
        "from google.colab import userdata\n",
        "GOOGLE_API_KEY=userdata.get('GOOGLE_API_KEY')\n"
      ]
    },
    {
      "cell_type": "code",
      "source": [
        "client = genai.Client(api_key=GOOGLE_API_KEY)"
      ],
      "metadata": {
        "id": "dCW1gdp8YP8z"
      },
      "execution_count": 5,
      "outputs": []
    },
    {
      "cell_type": "markdown",
      "metadata": {
        "id": "Mim5jZB6E1ag"
      },
      "source": [
        "Install PDF processing tools."
      ]
    },
    {
      "cell_type": "code",
      "execution_count": 6,
      "metadata": {
        "id": "4YjBq1mCE2cX",
        "outputId": "4e9e8c45-f01c-4bbf-d992-da173f6d7067",
        "colab": {
          "base_uri": "https://localhost:8080/"
        }
      },
      "outputs": [
        {
          "output_type": "stream",
          "name": "stdout",
          "text": [
            "Reading package lists... Done\n",
            "Building dependency tree... Done\n",
            "Reading state information... Done\n",
            "poppler-utils is already the newest version (22.02.0-2ubuntu0.8).\n",
            "0 upgraded, 0 newly installed, 0 to remove and 35 not upgraded.\n"
          ]
        }
      ],
      "source": [
        "!apt install poppler-utils"
      ]
    },
    {
      "cell_type": "markdown",
      "metadata": {
        "id": "MNvhBdoDFnTC"
      },
      "source": [
        "## Upload your audio and text files\n"
      ]
    },
    {
      "cell_type": "code",
      "execution_count": 7,
      "metadata": {
        "id": "V4XeFdX1rxaE",
        "outputId": "f54b522b-64ab-4254-e432-534d08fa9e34",
        "colab": {
          "base_uri": "https://localhost:8080/"
        }
      },
      "outputs": [
        {
          "output_type": "stream",
          "name": "stdout",
          "text": [
            "--2025-07-03 18:07:07--  https://storage.googleapis.com/generativeai-downloads/data/Walking_thoughts_3.m4a\n",
            "Resolving storage.googleapis.com (storage.googleapis.com)... 172.217.12.27, 142.250.65.123, 172.217.15.251, ...\n",
            "Connecting to storage.googleapis.com (storage.googleapis.com)|172.217.12.27|:443... connected.\n",
            "HTTP request sent, awaiting response... 200 OK\n",
            "Length: 2060207 (2.0M) [audio/x-m4a]\n",
            "Saving to: ‘Walking_thoughts_3.m4a.1’\n",
            "\n",
            "\rWalking_thoughts_3.   0%[                    ]       0  --.-KB/s               \rWalking_thoughts_3. 100%[===================>]   1.96M  --.-KB/s    in 0.01s   \n",
            "\n",
            "2025-07-03 18:07:07 (136 MB/s) - ‘Walking_thoughts_3.m4a.1’ saved [2060207/2060207]\n",
            "\n",
            "--2025-07-03 18:07:07--  https://storage.googleapis.com/generativeai-downloads/data/A_Possible_Future_for_Online_Content.pdf\n",
            "Resolving storage.googleapis.com (storage.googleapis.com)... 172.217.12.27, 142.250.65.123, 172.217.15.251, ...\n",
            "Connecting to storage.googleapis.com (storage.googleapis.com)|172.217.12.27|:443... connected.\n",
            "HTTP request sent, awaiting response... 200 OK\n",
            "Length: 2798700 (2.7M) [application/pdf]\n",
            "Saving to: ‘A_Possible_Future_for_Online_Content.pdf.1’\n",
            "\n",
            "A_Possible_Future_f 100%[===================>]   2.67M  --.-KB/s    in 0.02s   \n",
            "\n",
            "2025-07-03 18:07:07 (152 MB/s) - ‘A_Possible_Future_for_Online_Content.pdf.1’ saved [2798700/2798700]\n",
            "\n",
            "--2025-07-03 18:07:07--  https://storage.googleapis.com/generativeai-downloads/data/Unanswered_Questions_and_Endless_Possibilities.pdf\n",
            "Resolving storage.googleapis.com (storage.googleapis.com)... 172.217.12.27, 142.250.65.123, 172.217.15.251, ...\n",
            "Connecting to storage.googleapis.com (storage.googleapis.com)|172.217.12.27|:443... connected.\n",
            "HTTP request sent, awaiting response... 200 OK\n",
            "Length: 4016102 (3.8M) [application/pdf]\n",
            "Saving to: ‘Unanswered_Questions_and_Endless_Possibilities.pdf.1’\n",
            "\n",
            "Unanswered_Question 100%[===================>]   3.83M  --.-KB/s    in 0.04s   \n",
            "\n",
            "2025-07-03 18:07:07 (85.6 MB/s) - ‘Unanswered_Questions_and_Endless_Possibilities.pdf.1’ saved [4016102/4016102]\n",
            "\n"
          ]
        }
      ],
      "source": [
        "!wget https://storage.googleapis.com/generativeai-downloads/data/Walking_thoughts_3.m4a\n",
        "!wget https://storage.googleapis.com/generativeai-downloads/data/A_Possible_Future_for_Online_Content.pdf\n",
        "!wget https://storage.googleapis.com/generativeai-downloads/data/Unanswered_Questions_and_Endless_Possibilities.pdf"
      ]
    },
    {
      "cell_type": "code",
      "execution_count": 8,
      "metadata": {
        "id": "_HzrDdp2Q1Cu"
      },
      "outputs": [],
      "source": [
        "audio_file_name = \"Walking_thoughts_3.m4a\"\n",
        "audio_file = client.files.upload(file=audio_file_name)"
      ]
    },
    {
      "cell_type": "markdown",
      "metadata": {
        "id": "MpAU9V3YEvXh"
      },
      "source": [
        "## Extract text from the PDFs"
      ]
    },
    {
      "cell_type": "code",
      "execution_count": 9,
      "metadata": {
        "id": "NttNb-M_ExlK"
      },
      "outputs": [],
      "source": [
        "!pdftotext A_Possible_Future_for_Online_Content.pdf\n",
        "!pdftotext Unanswered_Questions_and_Endless_Possibilities.pdf"
      ]
    },
    {
      "cell_type": "code",
      "execution_count": 10,
      "metadata": {
        "id": "LYA-OlD6Gw3v"
      },
      "outputs": [],
      "source": [
        "blog_file_name = \"A_Possible_Future_for_Online_Content.txt\"\n",
        "blog_file = client.files.upload(file=blog_file_name)"
      ]
    },
    {
      "cell_type": "code",
      "execution_count": 11,
      "metadata": {
        "id": "9Sf63anDG317"
      },
      "outputs": [],
      "source": [
        "blog_file_name2 = \"Unanswered_Questions_and_Endless_Possibilities.txt\"\n",
        "blog_file2 = client.files.upload(file=blog_file_name2)"
      ]
    },
    {
      "cell_type": "markdown",
      "metadata": {
        "id": "EPPOECHzsIGJ"
      },
      "source": [
        "## System instructions\n",
        "\n",
        "Write a detailed system instruction to configure the model."
      ]
    },
    {
      "cell_type": "code",
      "execution_count": 12,
      "metadata": {
        "id": "y5zh5WzwGiR5"
      },
      "outputs": [],
      "source": [
        "si=\"\"\"Objective: Transform raw thoughts and ideas into polished, engaging blog posts that capture a writers unique style and voice.\n",
        "Input:\n",
        "Example Blog Posts (1-5): A user will provide examples of blog posts that resonate with their desired style and tone. These will guide you in understanding the preferences for word choice, sentence structure, and overall voice.\n",
        "Audio Clips: A user will share a selection of brainstorming thoughts and key points through audio recordings. They will talk freely and openly, as if they were explaining their ideas to a friend.\n",
        "Output:\n",
        "Blog Post Draft: A well-structured first draft of the blog post, suitable for platforms like Substack or LinkedIn.\n",
        "The draft will include:\n",
        "Clear and engaging writing: you will strive to make the writing clear, concise, and interesting for the target audience.\n",
        "Tone and style alignment: The language and style will closely match the examples provided, ensuring consistency with the desired voice.\n",
        "Logical flow and structure: The draft will be organized with clear sections based on the content of the post.\n",
        "Target word count: Aim for 500-800 words, but this can be adjusted based on user preferences.\n",
        "Process:\n",
        "Style Analysis: Carefully analyze the example blog posts provided by the user to identify key elements of their preferred style, including:\n",
        "Vocabulary and word choice: Formal vs. informal, technical terms, slang, etc.\n",
        "Sentence structure and length: Short and impactful vs. longer and descriptive sentences.\n",
        "Tone and voice: Humorous, serious, informative, persuasive, etc.\n",
        "Audio Transcription and Comprehension: Your audio clips will be transcribed with high accuracy. you will analyze them to extract key ideas, arguments, and supporting points.\n",
        "Draft Generation: Using the insights from the audio and the style guidelines from the examples, you will generate a first draft of the blog post. This draft will include all relevant sections with supporting arguments or evidence, and a great ending that ties everything together and makes the reader want to invest in future readings.\n",
        "\"\"\""
      ]
    },
    {
      "cell_type": "markdown",
      "metadata": {
        "id": "CuEXqOnYzhM-"
      },
      "source": [
        "## Generate Content"
      ]
    },
    {
      "cell_type": "code",
      "execution_count": 13,
      "metadata": {
        "id": "63ec84f8e8a8",
        "outputId": "7eaf8f9c-972a-4e3c-c477-b629d3049d64",
        "colab": {
          "base_uri": "https://localhost:8080/"
        }
      },
      "outputs": [
        {
          "output_type": "stream",
          "name": "stdout",
          "text": [
            "Here's a draft of your next blog post, incorporating your audio insights and aligning with the style and tone of your previous posts:\n",
            "\n",
            "---\n",
            "\n",
            "## Beyond the Deliverable: The Transformative Power of \"Writing to Think\"\n",
            "\n",
            "In the fast-paced world of product development and content creation, there's a pervasive pressure to constantly deliver. Every idea, every project, every line of code or prose feels like it must culminate in a tangible, final product. If it doesn't, is it wasted?\n",
            "\n",
            "Early in my career, straight out of school, this expectation was deeply ingrained. You were given an assignment, you completed it, and it was graded. There were no \"takesies backsies\" – the product was the point. So, when I entered the professional world and found myself pouring hours into visions, roadmaps, and ambitious projects that would ultimately be shelved, cancelled, or simply not go anywhere, it felt like a monumental, even colossal, waste of time. I’d spend countless hours meticulously crafting ideas, only to watch them get thrown away. It was incredibly frustrating, and frankly, it still happens to many of us today. Priorities shift, markets change, and sometimes, even brilliant work doesn't see the light of day.\n",
            "\n",
            "For a long time, I struggled to reconcile this reality with my ingrained belief that all work must lead to a final, valuable output. It took a while to get over that initial frustration, but it wasn't until I joined my current team that I truly appreciated a different perspective: the \"culture of writing to think.\"\n",
            "\n",
            "This isn't just about acknowledging that priorities change or that some projects won't make it to launch. It's a profound shift in how we view the very act of creation. It's the understanding that the *process* of producing something – the deep work of thinking, structuring, and articulating ideas – holds immense value, irrespective of whether the final output is ultimately deployed or even seen.\n",
            "\n",
            "### The True Value of Creation Lies in the Process\n",
            "\n",
            "Think about it:\n",
            "1.  **Honing Your Skills:** Every piece of content you produce, every idea you flesh out, every problem you attempt to solve through writing, is a practice session. It’s an opportunity to refine your arguments, clarify your thinking, and improve your communication. This continuous practice sharpens your abilities, making you better at what you do, going forward. It’s particularly powerful on the ideation side of things, where the act of writing helps you explore, refine, and connect disparate thoughts.\n",
            "2.  **Accelerating Learning and Growth:** If the act of creation is a learning opportunity, then the more you create, the faster you learn. This is where the mantra of \"write more, write earlier, write often\" comes into play. By consistently putting your thoughts down, you're not just documenting; you're actively engaging with your ideas, testing their limits, and identifying gaps in your understanding. This speeds up your personal and professional growth exponentially.\n",
            "3.  **Eliminating \"Throwaway Work\":** In the \"writing to think\" model, the concept of \"throwaway work\" simply doesn't exist. Work isn't discarded; it's absorbed. Even if a specific deliverable never ships, the knowledge gained, the skills sharpened, and the insights uncovered during its creation contribute to your cumulative expertise. That previously \"wasted\" time becomes an investment in your future capabilities.\n",
            "\n",
            "This perspective ties in beautifully with iterative processes and the philosophy of \"doing by learning.\" It encourages a fluid approach to development, where exploration and continuous refinement are celebrated, not just final outcomes. It reframes the very purpose of what we do.\n",
            "\n",
            "For \"young Jaclyn\" who once viewed unfinished projects as personal failures, this framing has been transformative. It’s something I now constantly talk about and go back to. It’s about understanding that every effort, regardless of its immediate external result, helps you hone your skills and get better over time.\n",
            "\n",
            "In an era increasingly shaped by generative AI, where content can be produced at lightning speed and adapted across countless formats (as I explored in \"A Possible Future for Online Content\"), the human act of *thinking* becomes even more paramount. The ability to articulate, refine, and iterate on complex ideas through writing is not just a skill – it's a superpower. It allows us to explore uncharted territories and embrace boundless possibilities with greater agility and confidence.\n",
            "\n",
            "So, the next time you find yourself working on something that might not see the light of day, remember: you’re not just building a product; you’re building yourself. You're \"writing to think,\" and that, in itself, is the most valuable output of all.\n"
          ]
        }
      ],
      "source": [
        "prompt = \"Draft my next blog post based on my thoughts in this audio file and these two previous blog posts I wrote.\"\n",
        "\n",
        "response = client.models.generate_content(\n",
        "    model=\"gemini-2.5-flash\",\n",
        "    contents=[\n",
        "        prompt,\n",
        "        blog_file,\n",
        "        blog_file2,\n",
        "        audio_file\n",
        "    ],\n",
        "    config=types.GenerateContentConfig(system_instruction=si)\n",
        ")\n",
        "\n",
        "print(response.text)"
      ]
    },
    {
      "cell_type": "markdown",
      "metadata": {
        "id": "K5oUCqb6IUnH"
      },
      "source": [
        "## Learning more\n",
        "\n",
        "* Learn more about the [File API](https://github.com/google-gemini/cookbook/blob/main/quickstarts/File_API.ipynb) with the quickstart."
      ]
    }
  ],
  "metadata": {
    "colab": {
      "collapsed_sections": [
        "Tce3stUlHN0L"
      ],
      "name": "Voice_memos.ipynb",
      "provenance": []
    },
    "kernelspec": {
      "display_name": "Python 3",
      "name": "python3"
    }
  },
  "nbformat": 4,
  "nbformat_minor": 0
}